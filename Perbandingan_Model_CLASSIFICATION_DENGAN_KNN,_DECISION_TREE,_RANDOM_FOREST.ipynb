{
  "nbformat": 4,
  "nbformat_minor": 0,
  "metadata": {
    "colab": {
      "name": "Perbandingan Model CLASSIFICATION DENGAN KNN, DECISION TREE, RANDOM FOREST.ipynb",
      "provenance": [],
      "collapsed_sections": []
    },
    "kernelspec": {
      "name": "python3",
      "display_name": "Python 3"
    },
    "language_info": {
      "name": "python"
    }
  },
  "cells": [
    {
      "cell_type": "markdown",
      "source": [
        "Install Category Encoders (ce)"
      ],
      "metadata": {
        "id": "NmFCWcXeoOa7"
      }
    },
    {
      "cell_type": "code",
      "source": [
        "pip install --upgrade category_encoders"
      ],
      "metadata": {
        "colab": {
          "base_uri": "https://localhost:8080/"
        },
        "id": "pW2ASxTORXvg",
        "outputId": "772e5f47-c999-4759-c321-192037dd951b"
      },
      "execution_count": null,
      "outputs": [
        {
          "output_type": "stream",
          "name": "stdout",
          "text": [
            "Looking in indexes: https://pypi.org/simple, https://us-python.pkg.dev/colab-wheels/public/simple/\n",
            "Requirement already satisfied: category_encoders in /usr/local/lib/python3.7/dist-packages (2.5.0)\n",
            "Requirement already satisfied: patsy>=0.5.1 in /usr/local/lib/python3.7/dist-packages (from category_encoders) (0.5.2)\n",
            "Requirement already satisfied: statsmodels>=0.9.0 in /usr/local/lib/python3.7/dist-packages (from category_encoders) (0.10.2)\n",
            "Requirement already satisfied: pandas>=1.0.5 in /usr/local/lib/python3.7/dist-packages (from category_encoders) (1.3.5)\n",
            "Requirement already satisfied: scikit-learn>=0.20.0 in /usr/local/lib/python3.7/dist-packages (from category_encoders) (1.0.2)\n",
            "Requirement already satisfied: scipy>=1.0.0 in /usr/local/lib/python3.7/dist-packages (from category_encoders) (1.4.1)\n",
            "Requirement already satisfied: numpy>=1.14.0 in /usr/local/lib/python3.7/dist-packages (from category_encoders) (1.21.6)\n",
            "Requirement already satisfied: python-dateutil>=2.7.3 in /usr/local/lib/python3.7/dist-packages (from pandas>=1.0.5->category_encoders) (2.8.2)\n",
            "Requirement already satisfied: pytz>=2017.3 in /usr/local/lib/python3.7/dist-packages (from pandas>=1.0.5->category_encoders) (2022.1)\n",
            "Requirement already satisfied: six in /usr/local/lib/python3.7/dist-packages (from patsy>=0.5.1->category_encoders) (1.15.0)\n",
            "Requirement already satisfied: threadpoolctl>=2.0.0 in /usr/local/lib/python3.7/dist-packages (from scikit-learn>=0.20.0->category_encoders) (3.1.0)\n",
            "Requirement already satisfied: joblib>=0.11 in /usr/local/lib/python3.7/dist-packages (from scikit-learn>=0.20.0->category_encoders) (1.1.0)\n"
          ]
        }
      ]
    },
    {
      "cell_type": "markdown",
      "source": [
        "Import Library "
      ],
      "metadata": {
        "id": "kIal3SV5ocLS"
      }
    },
    {
      "cell_type": "code",
      "metadata": {
        "id": "gnenb7dPWQVp",
        "colab": {
          "base_uri": "https://localhost:8080/"
        },
        "outputId": "fb2fe88e-419b-4167-85c3-5cea7c5186f9"
      },
      "source": [
        "import pandas as pd\n",
        "import numpy as np\n",
        "import matplotlib.pyplot as plt\n",
        "import seaborn as sns\n",
        "import category_encoders as ce\n",
        "from sklearn.preprocessing import OneHotEncoder\n",
        "from sklearn.model_selection import train_test_split\n",
        "from sklearn.metrics import confusion_matrix, classification_report"
      ],
      "execution_count": null,
      "outputs": [
        {
          "output_type": "stream",
          "name": "stderr",
          "text": [
            "/usr/local/lib/python3.7/dist-packages/statsmodels/tools/_testing.py:19: FutureWarning: pandas.util.testing is deprecated. Use the functions in the public API at pandas.testing instead.\n",
            "  import pandas.util.testing as tm\n"
          ]
        }
      ]
    },
    {
      "cell_type": "markdown",
      "source": [
        "Load **Dataset**"
      ],
      "metadata": {
        "id": "4FZdOQQeokhk"
      }
    },
    {
      "cell_type": "code",
      "metadata": {
        "colab": {
          "base_uri": "https://localhost:8080/",
          "height": 206
        },
        "id": "SDpnmiwBXD0o",
        "outputId": "4fbbbf9f-d5e9-47e8-cb39-65f2d6d8ca6d"
      },
      "source": [
        "\n",
        "datatrain = pd.read_csv('/content/coba dulu_allvar.csv')\n",
        "datatrain.tail()"
      ],
      "execution_count": null,
      "outputs": [
        {
          "output_type": "execute_result",
          "data": {
            "text/plain": [
              "                     date  suhu  kelembaban_tanah tanaman_optimal\n",
              "4876  17/03/2022 19:00:00    23                80         OPTIMAL\n",
              "4877  17/03/2022 20:00:00    23                80         OPTIMAL\n",
              "4878  17/03/2022 21:00:00    23                80         OPTIMAL\n",
              "4879  17/03/2022 22:00:00    23                80         OPTIMAL\n",
              "4880  17/03/2022 23:00:00    23                80         OPTIMAL"
            ],
            "text/html": [
              "\n",
              "  <div id=\"df-6092e6ba-8bc9-49bf-bc56-51c5a20deded\">\n",
              "    <div class=\"colab-df-container\">\n",
              "      <div>\n",
              "<style scoped>\n",
              "    .dataframe tbody tr th:only-of-type {\n",
              "        vertical-align: middle;\n",
              "    }\n",
              "\n",
              "    .dataframe tbody tr th {\n",
              "        vertical-align: top;\n",
              "    }\n",
              "\n",
              "    .dataframe thead th {\n",
              "        text-align: right;\n",
              "    }\n",
              "</style>\n",
              "<table border=\"1\" class=\"dataframe\">\n",
              "  <thead>\n",
              "    <tr style=\"text-align: right;\">\n",
              "      <th></th>\n",
              "      <th>date</th>\n",
              "      <th>suhu</th>\n",
              "      <th>kelembaban_tanah</th>\n",
              "      <th>tanaman_optimal</th>\n",
              "    </tr>\n",
              "  </thead>\n",
              "  <tbody>\n",
              "    <tr>\n",
              "      <th>4876</th>\n",
              "      <td>17/03/2022 19:00:00</td>\n",
              "      <td>23</td>\n",
              "      <td>80</td>\n",
              "      <td>OPTIMAL</td>\n",
              "    </tr>\n",
              "    <tr>\n",
              "      <th>4877</th>\n",
              "      <td>17/03/2022 20:00:00</td>\n",
              "      <td>23</td>\n",
              "      <td>80</td>\n",
              "      <td>OPTIMAL</td>\n",
              "    </tr>\n",
              "    <tr>\n",
              "      <th>4878</th>\n",
              "      <td>17/03/2022 21:00:00</td>\n",
              "      <td>23</td>\n",
              "      <td>80</td>\n",
              "      <td>OPTIMAL</td>\n",
              "    </tr>\n",
              "    <tr>\n",
              "      <th>4879</th>\n",
              "      <td>17/03/2022 22:00:00</td>\n",
              "      <td>23</td>\n",
              "      <td>80</td>\n",
              "      <td>OPTIMAL</td>\n",
              "    </tr>\n",
              "    <tr>\n",
              "      <th>4880</th>\n",
              "      <td>17/03/2022 23:00:00</td>\n",
              "      <td>23</td>\n",
              "      <td>80</td>\n",
              "      <td>OPTIMAL</td>\n",
              "    </tr>\n",
              "  </tbody>\n",
              "</table>\n",
              "</div>\n",
              "      <button class=\"colab-df-convert\" onclick=\"convertToInteractive('df-6092e6ba-8bc9-49bf-bc56-51c5a20deded')\"\n",
              "              title=\"Convert this dataframe to an interactive table.\"\n",
              "              style=\"display:none;\">\n",
              "        \n",
              "  <svg xmlns=\"http://www.w3.org/2000/svg\" height=\"24px\"viewBox=\"0 0 24 24\"\n",
              "       width=\"24px\">\n",
              "    <path d=\"M0 0h24v24H0V0z\" fill=\"none\"/>\n",
              "    <path d=\"M18.56 5.44l.94 2.06.94-2.06 2.06-.94-2.06-.94-.94-2.06-.94 2.06-2.06.94zm-11 1L8.5 8.5l.94-2.06 2.06-.94-2.06-.94L8.5 2.5l-.94 2.06-2.06.94zm10 10l.94 2.06.94-2.06 2.06-.94-2.06-.94-.94-2.06-.94 2.06-2.06.94z\"/><path d=\"M17.41 7.96l-1.37-1.37c-.4-.4-.92-.59-1.43-.59-.52 0-1.04.2-1.43.59L10.3 9.45l-7.72 7.72c-.78.78-.78 2.05 0 2.83L4 21.41c.39.39.9.59 1.41.59.51 0 1.02-.2 1.41-.59l7.78-7.78 2.81-2.81c.8-.78.8-2.07 0-2.86zM5.41 20L4 18.59l7.72-7.72 1.47 1.35L5.41 20z\"/>\n",
              "  </svg>\n",
              "      </button>\n",
              "      \n",
              "  <style>\n",
              "    .colab-df-container {\n",
              "      display:flex;\n",
              "      flex-wrap:wrap;\n",
              "      gap: 12px;\n",
              "    }\n",
              "\n",
              "    .colab-df-convert {\n",
              "      background-color: #E8F0FE;\n",
              "      border: none;\n",
              "      border-radius: 50%;\n",
              "      cursor: pointer;\n",
              "      display: none;\n",
              "      fill: #1967D2;\n",
              "      height: 32px;\n",
              "      padding: 0 0 0 0;\n",
              "      width: 32px;\n",
              "    }\n",
              "\n",
              "    .colab-df-convert:hover {\n",
              "      background-color: #E2EBFA;\n",
              "      box-shadow: 0px 1px 2px rgba(60, 64, 67, 0.3), 0px 1px 3px 1px rgba(60, 64, 67, 0.15);\n",
              "      fill: #174EA6;\n",
              "    }\n",
              "\n",
              "    [theme=dark] .colab-df-convert {\n",
              "      background-color: #3B4455;\n",
              "      fill: #D2E3FC;\n",
              "    }\n",
              "\n",
              "    [theme=dark] .colab-df-convert:hover {\n",
              "      background-color: #434B5C;\n",
              "      box-shadow: 0px 1px 3px 1px rgba(0, 0, 0, 0.15);\n",
              "      filter: drop-shadow(0px 1px 2px rgba(0, 0, 0, 0.3));\n",
              "      fill: #FFFFFF;\n",
              "    }\n",
              "  </style>\n",
              "\n",
              "      <script>\n",
              "        const buttonEl =\n",
              "          document.querySelector('#df-6092e6ba-8bc9-49bf-bc56-51c5a20deded button.colab-df-convert');\n",
              "        buttonEl.style.display =\n",
              "          google.colab.kernel.accessAllowed ? 'block' : 'none';\n",
              "\n",
              "        async function convertToInteractive(key) {\n",
              "          const element = document.querySelector('#df-6092e6ba-8bc9-49bf-bc56-51c5a20deded');\n",
              "          const dataTable =\n",
              "            await google.colab.kernel.invokeFunction('convertToInteractive',\n",
              "                                                     [key], {});\n",
              "          if (!dataTable) return;\n",
              "\n",
              "          const docLinkHtml = 'Like what you see? Visit the ' +\n",
              "            '<a target=\"_blank\" href=https://colab.research.google.com/notebooks/data_table.ipynb>data table notebook</a>'\n",
              "            + ' to learn more about interactive tables.';\n",
              "          element.innerHTML = '';\n",
              "          dataTable['output_type'] = 'display_data';\n",
              "          await google.colab.output.renderOutput(dataTable, element);\n",
              "          const docLink = document.createElement('div');\n",
              "          docLink.innerHTML = docLinkHtml;\n",
              "          element.appendChild(docLink);\n",
              "        }\n",
              "      </script>\n",
              "    </div>\n",
              "  </div>\n",
              "  "
            ]
          },
          "metadata": {},
          "execution_count": 3
        }
      ]
    },
    {
      "cell_type": "markdown",
      "metadata": {
        "id": "rMZH4rUXiv9Q"
      },
      "source": [
        "#1. Explorasi Dataset "
      ]
    },
    {
      "cell_type": "code",
      "metadata": {
        "colab": {
          "base_uri": "https://localhost:8080/"
        },
        "id": "vRI8J1U_a_U4",
        "outputId": "e07e0914-8ec6-4756-8017-cb25cd2442d3"
      },
      "source": [
        "#MenampilkanDimensiData\n",
        "print(datatrain.shape)\n",
        "print(type(datatrain))"
      ],
      "execution_count": null,
      "outputs": [
        {
          "output_type": "stream",
          "name": "stdout",
          "text": [
            "(4881, 4)\n",
            "<class 'pandas.core.frame.DataFrame'>\n"
          ]
        }
      ]
    },
    {
      "cell_type": "markdown",
      "metadata": {
        "id": "UrrWZxdKjDya"
      },
      "source": [
        "Dataset klimatologi memiliki 4 atribut dan 4881 baris data."
      ]
    },
    {
      "cell_type": "code",
      "metadata": {
        "colab": {
          "base_uri": "https://localhost:8080/"
        },
        "id": "41xAhn6mi6sJ",
        "outputId": "9a4cda59-dfa8-4ee9-8847-502c7bf84176"
      },
      "source": [
        "#Menampilkan Value Kolom tanaman_optimal\n",
        "datatrain['tanaman_optimal'].value_counts()"
      ],
      "execution_count": null,
      "outputs": [
        {
          "output_type": "execute_result",
          "data": {
            "text/plain": [
              "KURANG OPTIMAL    2443\n",
              "OPTIMAL           2438\n",
              "Name: tanaman_optimal, dtype: int64"
            ]
          },
          "metadata": {},
          "execution_count": 5
        }
      ]
    },
    {
      "cell_type": "code",
      "metadata": {
        "colab": {
          "base_uri": "https://localhost:8080/"
        },
        "id": "I4SG9udlqDhH",
        "outputId": "bc1456ea-a894-474c-8db8-758dfc5ad0e4"
      },
      "source": [
        "#Menampilkan Tipe Data\n",
        "datatrain.dtypes"
      ],
      "execution_count": null,
      "outputs": [
        {
          "output_type": "execute_result",
          "data": {
            "text/plain": [
              "date                object\n",
              "suhu                 int64\n",
              "kelembaban_tanah     int64\n",
              "tanaman_optimal     object\n",
              "dtype: object"
            ]
          },
          "metadata": {},
          "execution_count": 6
        }
      ]
    },
    {
      "cell_type": "markdown",
      "metadata": {
        "id": "3NjJwiMvjMAE"
      },
      "source": [
        "Untuk Class 'BersaljuBesok', terdapat 23963 data yang 'Ya' dan 82701 yang 'Tidak'."
      ]
    },
    {
      "cell_type": "markdown",
      "metadata": {
        "id": "VUsKiVaVsI-X"
      },
      "source": [
        "#2. Mengatasi Missing Values"
      ]
    },
    {
      "cell_type": "code",
      "metadata": {
        "colab": {
          "base_uri": "https://localhost:8080/"
        },
        "id": "53s0yffVjZwZ",
        "outputId": "40dc9fc9-c6d1-4153-a2b3-911f8b0e6e48"
      },
      "source": [
        "#mengecek missing value null\n",
        "datatrain.isnull().sum()"
      ],
      "execution_count": null,
      "outputs": [
        {
          "output_type": "execute_result",
          "data": {
            "text/plain": [
              "date                0\n",
              "suhu                0\n",
              "kelembaban_tanah    0\n",
              "tanaman_optimal     0\n",
              "dtype: int64"
            ]
          },
          "metadata": {},
          "execution_count": 7
        }
      ]
    },
    {
      "cell_type": "markdown",
      "metadata": {
        "id": "KgRrfayFlDUz"
      },
      "source": [
        "Bisa terlihat nilai 0 pada semua kolom berarti sudah tidak ada missing value. Hal ini karena sudah dilakukan preprocessing data sebelumnya. \n",
        "\n",
        "Apabila terdapat missing value pada data numerikal, dataset harus diketahui apakah dataset tersebut skewed atau tidak. Skewness merupakan teknik pengukuran apabila distribusi tiap data simetrik atau tidak. Jika rentan nilai skewness berada di antara 2 dan -2, maka dipakailah mean. Jika tidak, dipakailah median"
      ]
    },
    {
      "cell_type": "code",
      "metadata": {
        "colab": {
          "base_uri": "https://localhost:8080/"
        },
        "id": "1D90TDMSji5v",
        "outputId": "3abde4e2-98f6-47f7-92c3-417b420bd466"
      },
      "source": [
        "#melihat apakah data tersebut skew\n",
        "datatrain.skew(axis=0, skipna=True)"
      ],
      "execution_count": null,
      "outputs": [
        {
          "output_type": "stream",
          "name": "stderr",
          "text": [
            "/usr/local/lib/python3.7/dist-packages/ipykernel_launcher.py:2: FutureWarning: Dropping of nuisance columns in DataFrame reductions (with 'numeric_only=None') is deprecated; in a future version this will raise TypeError.  Select only valid columns before calling the reduction.\n",
            "  \n"
          ]
        },
        {
          "output_type": "execute_result",
          "data": {
            "text/plain": [
              "suhu                0.874239\n",
              "kelembaban_tanah    0.569308\n",
              "dtype: float64"
            ]
          },
          "metadata": {},
          "execution_count": 8
        }
      ]
    },
    {
      "cell_type": "markdown",
      "metadata": {
        "id": "A1zMnBhylqpA"
      },
      "source": [
        "Bisa dilihat bahwa nilai skew berada dirange yang baik.\n",
        "\n",
        "Apabila berada diluar range 2 sampai -2, maka pengisian missing value dilakukan dengan metode median. Apaabila nilai skew memenuhi, maka metode yang digunakan adalah dengan mean "
      ]
    },
    {
      "cell_type": "code",
      "metadata": {
        "id": "TfyKxSMhlp5x",
        "colab": {
          "base_uri": "https://localhost:8080/"
        },
        "outputId": "b789b191-175e-47ee-9b6c-eb08f5b61954"
      },
      "source": [
        "#mengatasi missing values dengan mean atau median\n",
        "datatrain.fillna(datatrain.mean(), inplace=True)"
      ],
      "execution_count": null,
      "outputs": [
        {
          "output_type": "stream",
          "name": "stderr",
          "text": [
            "/usr/local/lib/python3.7/dist-packages/ipykernel_launcher.py:2: FutureWarning: Dropping of nuisance columns in DataFrame reductions (with 'numeric_only=None') is deprecated; in a future version this will raise TypeError.  Select only valid columns before calling the reduction.\n",
            "  \n"
          ]
        }
      ]
    },
    {
      "cell_type": "markdown",
      "source": [
        "proses ini dilewati saja karena data tidak terdapat missing value"
      ],
      "metadata": {
        "id": "dY8VWL8iqvG7"
      }
    },
    {
      "cell_type": "code",
      "source": [
        "#mengecek ada data null\n",
        "datatrain.isnull().sum()"
      ],
      "metadata": {
        "colab": {
          "base_uri": "https://localhost:8080/"
        },
        "id": "_asoRg0UqymS",
        "outputId": "99856cb8-84a7-414f-d974-792cd5e5deb7"
      },
      "execution_count": null,
      "outputs": [
        {
          "output_type": "execute_result",
          "data": {
            "text/plain": [
              "date                0\n",
              "suhu                0\n",
              "kelembaban_tanah    0\n",
              "tanaman_optimal     0\n",
              "dtype: int64"
            ]
          },
          "metadata": {},
          "execution_count": 10
        }
      ]
    },
    {
      "cell_type": "code",
      "metadata": {
        "id": "ilHGOInfl_Nw"
      },
      "source": [
        "#Apabila terdapat missing value pada data kategorik maka akan digunakan library SimpleImpute\n",
        "from sklearn.impute import SimpleImputer\n",
        "imputer = SimpleImputer(missing_values=np.nan, strategy='most_frequent')\n",
        "datatrain = pd.DataFrame(imputer.fit_transform(datatrain))"
      ],
      "execution_count": null,
      "outputs": []
    },
    {
      "cell_type": "markdown",
      "metadata": {
        "id": "ccXKUpOVsYUV"
      },
      "source": [
        "#3. Memisahkan dataset dengan target variabel"
      ]
    },
    {
      "cell_type": "code",
      "metadata": {
        "id": "OZAaLJmLsEzy"
      },
      "source": [
        "#meng-assign X untuk semua kolom kecuali 'tanaman_optimal' dan y untuk kolom 'tanaman_optimal'\n",
        "X = datatrain.drop(['tanaman_optimal'], axis=1)\n",
        "y = datatrain['tanaman_optimal']"
      ],
      "execution_count": null,
      "outputs": []
    },
    {
      "cell_type": "markdown",
      "metadata": {
        "id": "nRZq8o9L1DZG"
      },
      "source": [
        "Setelah memisahkan variable independen dari variable dependen (y), selanjutnya adalah memsplit data menjadi X_train, X_test, y_train, dan y_test dengan test sizenya 0.3"
      ]
    },
    {
      "cell_type": "code",
      "metadata": {
        "colab": {
          "base_uri": "https://localhost:8080/"
        },
        "id": "lNGex4yyuCAR",
        "outputId": "4372d113-6a49-42af-b2ca-e73eb384a9d8"
      },
      "source": [
        "#split data train dan data test\n",
        "X_train, X_test, y_train, y_test = train_test_split(X, y, test_size = 0.1, random_state=1)\n",
        "X_train.shape, X_test.shape"
      ],
      "execution_count": null,
      "outputs": [
        {
          "output_type": "execute_result",
          "data": {
            "text/plain": [
              "((4392, 3), (489, 3))"
            ]
          },
          "metadata": {},
          "execution_count": 47
        }
      ]
    },
    {
      "cell_type": "markdown",
      "metadata": {
        "id": "65drmomO1VOq"
      },
      "source": [
        "Setelah membagi data, selanjutnya adalah meng-encode data kategorik menjadi tipe data yang sama supaya bisa dikomputasi."
      ]
    },
    {
      "cell_type": "code",
      "metadata": {
        "id": "Zr4gUAOZ0pN1"
      },
      "source": [
        "encoder = ce.OrdinalEncoder(cols=['date', 'suhu', 'kelembaban_tanah',])\n",
        "\n",
        "#meng-assign hasil encoder kedalan X_train dan X_test\n",
        "X_train = encoder.fit_transform(X_train)\n",
        "X_test = encoder.transform(X_test)"
      ],
      "execution_count": null,
      "outputs": []
    },
    {
      "cell_type": "code",
      "metadata": {
        "colab": {
          "base_uri": "https://localhost:8080/",
          "height": 206
        },
        "id": "ghPfGiDd2Nj0",
        "outputId": "faf91acf-be3e-403b-be8f-eb97c1923a31"
      },
      "source": [
        "X_train.head()"
      ],
      "execution_count": null,
      "outputs": [
        {
          "output_type": "execute_result",
          "data": {
            "text/plain": [
              "      date  suhu  kelembaban_tanah\n",
              "3939     1     1                 1\n",
              "2296     2     2                 2\n",
              "1857     3     3                 3\n",
              "4679     4     4                 4\n",
              "366      5     5                 5"
            ],
            "text/html": [
              "\n",
              "  <div id=\"df-90a22b90-cceb-4d10-a2a7-7dbcca708b0e\">\n",
              "    <div class=\"colab-df-container\">\n",
              "      <div>\n",
              "<style scoped>\n",
              "    .dataframe tbody tr th:only-of-type {\n",
              "        vertical-align: middle;\n",
              "    }\n",
              "\n",
              "    .dataframe tbody tr th {\n",
              "        vertical-align: top;\n",
              "    }\n",
              "\n",
              "    .dataframe thead th {\n",
              "        text-align: right;\n",
              "    }\n",
              "</style>\n",
              "<table border=\"1\" class=\"dataframe\">\n",
              "  <thead>\n",
              "    <tr style=\"text-align: right;\">\n",
              "      <th></th>\n",
              "      <th>date</th>\n",
              "      <th>suhu</th>\n",
              "      <th>kelembaban_tanah</th>\n",
              "    </tr>\n",
              "  </thead>\n",
              "  <tbody>\n",
              "    <tr>\n",
              "      <th>3939</th>\n",
              "      <td>1</td>\n",
              "      <td>1</td>\n",
              "      <td>1</td>\n",
              "    </tr>\n",
              "    <tr>\n",
              "      <th>2296</th>\n",
              "      <td>2</td>\n",
              "      <td>2</td>\n",
              "      <td>2</td>\n",
              "    </tr>\n",
              "    <tr>\n",
              "      <th>1857</th>\n",
              "      <td>3</td>\n",
              "      <td>3</td>\n",
              "      <td>3</td>\n",
              "    </tr>\n",
              "    <tr>\n",
              "      <th>4679</th>\n",
              "      <td>4</td>\n",
              "      <td>4</td>\n",
              "      <td>4</td>\n",
              "    </tr>\n",
              "    <tr>\n",
              "      <th>366</th>\n",
              "      <td>5</td>\n",
              "      <td>5</td>\n",
              "      <td>5</td>\n",
              "    </tr>\n",
              "  </tbody>\n",
              "</table>\n",
              "</div>\n",
              "      <button class=\"colab-df-convert\" onclick=\"convertToInteractive('df-90a22b90-cceb-4d10-a2a7-7dbcca708b0e')\"\n",
              "              title=\"Convert this dataframe to an interactive table.\"\n",
              "              style=\"display:none;\">\n",
              "        \n",
              "  <svg xmlns=\"http://www.w3.org/2000/svg\" height=\"24px\"viewBox=\"0 0 24 24\"\n",
              "       width=\"24px\">\n",
              "    <path d=\"M0 0h24v24H0V0z\" fill=\"none\"/>\n",
              "    <path d=\"M18.56 5.44l.94 2.06.94-2.06 2.06-.94-2.06-.94-.94-2.06-.94 2.06-2.06.94zm-11 1L8.5 8.5l.94-2.06 2.06-.94-2.06-.94L8.5 2.5l-.94 2.06-2.06.94zm10 10l.94 2.06.94-2.06 2.06-.94-2.06-.94-.94-2.06-.94 2.06-2.06.94z\"/><path d=\"M17.41 7.96l-1.37-1.37c-.4-.4-.92-.59-1.43-.59-.52 0-1.04.2-1.43.59L10.3 9.45l-7.72 7.72c-.78.78-.78 2.05 0 2.83L4 21.41c.39.39.9.59 1.41.59.51 0 1.02-.2 1.41-.59l7.78-7.78 2.81-2.81c.8-.78.8-2.07 0-2.86zM5.41 20L4 18.59l7.72-7.72 1.47 1.35L5.41 20z\"/>\n",
              "  </svg>\n",
              "      </button>\n",
              "      \n",
              "  <style>\n",
              "    .colab-df-container {\n",
              "      display:flex;\n",
              "      flex-wrap:wrap;\n",
              "      gap: 12px;\n",
              "    }\n",
              "\n",
              "    .colab-df-convert {\n",
              "      background-color: #E8F0FE;\n",
              "      border: none;\n",
              "      border-radius: 50%;\n",
              "      cursor: pointer;\n",
              "      display: none;\n",
              "      fill: #1967D2;\n",
              "      height: 32px;\n",
              "      padding: 0 0 0 0;\n",
              "      width: 32px;\n",
              "    }\n",
              "\n",
              "    .colab-df-convert:hover {\n",
              "      background-color: #E2EBFA;\n",
              "      box-shadow: 0px 1px 2px rgba(60, 64, 67, 0.3), 0px 1px 3px 1px rgba(60, 64, 67, 0.15);\n",
              "      fill: #174EA6;\n",
              "    }\n",
              "\n",
              "    [theme=dark] .colab-df-convert {\n",
              "      background-color: #3B4455;\n",
              "      fill: #D2E3FC;\n",
              "    }\n",
              "\n",
              "    [theme=dark] .colab-df-convert:hover {\n",
              "      background-color: #434B5C;\n",
              "      box-shadow: 0px 1px 3px 1px rgba(0, 0, 0, 0.15);\n",
              "      filter: drop-shadow(0px 1px 2px rgba(0, 0, 0, 0.3));\n",
              "      fill: #FFFFFF;\n",
              "    }\n",
              "  </style>\n",
              "\n",
              "      <script>\n",
              "        const buttonEl =\n",
              "          document.querySelector('#df-90a22b90-cceb-4d10-a2a7-7dbcca708b0e button.colab-df-convert');\n",
              "        buttonEl.style.display =\n",
              "          google.colab.kernel.accessAllowed ? 'block' : 'none';\n",
              "\n",
              "        async function convertToInteractive(key) {\n",
              "          const element = document.querySelector('#df-90a22b90-cceb-4d10-a2a7-7dbcca708b0e');\n",
              "          const dataTable =\n",
              "            await google.colab.kernel.invokeFunction('convertToInteractive',\n",
              "                                                     [key], {});\n",
              "          if (!dataTable) return;\n",
              "\n",
              "          const docLinkHtml = 'Like what you see? Visit the ' +\n",
              "            '<a target=\"_blank\" href=https://colab.research.google.com/notebooks/data_table.ipynb>data table notebook</a>'\n",
              "            + ' to learn more about interactive tables.';\n",
              "          element.innerHTML = '';\n",
              "          dataTable['output_type'] = 'display_data';\n",
              "          await google.colab.output.renderOutput(dataTable, element);\n",
              "          const docLink = document.createElement('div');\n",
              "          docLink.innerHTML = docLinkHtml;\n",
              "          element.appendChild(docLink);\n",
              "        }\n",
              "      </script>\n",
              "    </div>\n",
              "  </div>\n",
              "  "
            ]
          },
          "metadata": {},
          "execution_count": 49
        }
      ]
    },
    {
      "cell_type": "code",
      "source": [
        "X_train.drop(['date'], axis=1)"
      ],
      "metadata": {
        "colab": {
          "base_uri": "https://localhost:8080/",
          "height": 423
        },
        "id": "ZtGydBcoeIJO",
        "outputId": "8894096a-947f-4221-8dbe-52e7a0246029"
      },
      "execution_count": null,
      "outputs": [
        {
          "output_type": "execute_result",
          "data": {
            "text/plain": [
              "      suhu  kelembaban_tanah\n",
              "3939     1                 1\n",
              "2296     2                 2\n",
              "1857     3                 3\n",
              "4679     4                 4\n",
              "366      5                 5\n",
              "...    ...               ...\n",
              "2895     3                17\n",
              "2763    10                19\n",
              "905      6                 8\n",
              "3980    12                11\n",
              "235      9                13\n",
              "\n",
              "[4392 rows x 2 columns]"
            ],
            "text/html": [
              "\n",
              "  <div id=\"df-142c7f3c-5bba-4d4f-9b83-a8ba1cef0f13\">\n",
              "    <div class=\"colab-df-container\">\n",
              "      <div>\n",
              "<style scoped>\n",
              "    .dataframe tbody tr th:only-of-type {\n",
              "        vertical-align: middle;\n",
              "    }\n",
              "\n",
              "    .dataframe tbody tr th {\n",
              "        vertical-align: top;\n",
              "    }\n",
              "\n",
              "    .dataframe thead th {\n",
              "        text-align: right;\n",
              "    }\n",
              "</style>\n",
              "<table border=\"1\" class=\"dataframe\">\n",
              "  <thead>\n",
              "    <tr style=\"text-align: right;\">\n",
              "      <th></th>\n",
              "      <th>suhu</th>\n",
              "      <th>kelembaban_tanah</th>\n",
              "    </tr>\n",
              "  </thead>\n",
              "  <tbody>\n",
              "    <tr>\n",
              "      <th>3939</th>\n",
              "      <td>1</td>\n",
              "      <td>1</td>\n",
              "    </tr>\n",
              "    <tr>\n",
              "      <th>2296</th>\n",
              "      <td>2</td>\n",
              "      <td>2</td>\n",
              "    </tr>\n",
              "    <tr>\n",
              "      <th>1857</th>\n",
              "      <td>3</td>\n",
              "      <td>3</td>\n",
              "    </tr>\n",
              "    <tr>\n",
              "      <th>4679</th>\n",
              "      <td>4</td>\n",
              "      <td>4</td>\n",
              "    </tr>\n",
              "    <tr>\n",
              "      <th>366</th>\n",
              "      <td>5</td>\n",
              "      <td>5</td>\n",
              "    </tr>\n",
              "    <tr>\n",
              "      <th>...</th>\n",
              "      <td>...</td>\n",
              "      <td>...</td>\n",
              "    </tr>\n",
              "    <tr>\n",
              "      <th>2895</th>\n",
              "      <td>3</td>\n",
              "      <td>17</td>\n",
              "    </tr>\n",
              "    <tr>\n",
              "      <th>2763</th>\n",
              "      <td>10</td>\n",
              "      <td>19</td>\n",
              "    </tr>\n",
              "    <tr>\n",
              "      <th>905</th>\n",
              "      <td>6</td>\n",
              "      <td>8</td>\n",
              "    </tr>\n",
              "    <tr>\n",
              "      <th>3980</th>\n",
              "      <td>12</td>\n",
              "      <td>11</td>\n",
              "    </tr>\n",
              "    <tr>\n",
              "      <th>235</th>\n",
              "      <td>9</td>\n",
              "      <td>13</td>\n",
              "    </tr>\n",
              "  </tbody>\n",
              "</table>\n",
              "<p>4392 rows × 2 columns</p>\n",
              "</div>\n",
              "      <button class=\"colab-df-convert\" onclick=\"convertToInteractive('df-142c7f3c-5bba-4d4f-9b83-a8ba1cef0f13')\"\n",
              "              title=\"Convert this dataframe to an interactive table.\"\n",
              "              style=\"display:none;\">\n",
              "        \n",
              "  <svg xmlns=\"http://www.w3.org/2000/svg\" height=\"24px\"viewBox=\"0 0 24 24\"\n",
              "       width=\"24px\">\n",
              "    <path d=\"M0 0h24v24H0V0z\" fill=\"none\"/>\n",
              "    <path d=\"M18.56 5.44l.94 2.06.94-2.06 2.06-.94-2.06-.94-.94-2.06-.94 2.06-2.06.94zm-11 1L8.5 8.5l.94-2.06 2.06-.94-2.06-.94L8.5 2.5l-.94 2.06-2.06.94zm10 10l.94 2.06.94-2.06 2.06-.94-2.06-.94-.94-2.06-.94 2.06-2.06.94z\"/><path d=\"M17.41 7.96l-1.37-1.37c-.4-.4-.92-.59-1.43-.59-.52 0-1.04.2-1.43.59L10.3 9.45l-7.72 7.72c-.78.78-.78 2.05 0 2.83L4 21.41c.39.39.9.59 1.41.59.51 0 1.02-.2 1.41-.59l7.78-7.78 2.81-2.81c.8-.78.8-2.07 0-2.86zM5.41 20L4 18.59l7.72-7.72 1.47 1.35L5.41 20z\"/>\n",
              "  </svg>\n",
              "      </button>\n",
              "      \n",
              "  <style>\n",
              "    .colab-df-container {\n",
              "      display:flex;\n",
              "      flex-wrap:wrap;\n",
              "      gap: 12px;\n",
              "    }\n",
              "\n",
              "    .colab-df-convert {\n",
              "      background-color: #E8F0FE;\n",
              "      border: none;\n",
              "      border-radius: 50%;\n",
              "      cursor: pointer;\n",
              "      display: none;\n",
              "      fill: #1967D2;\n",
              "      height: 32px;\n",
              "      padding: 0 0 0 0;\n",
              "      width: 32px;\n",
              "    }\n",
              "\n",
              "    .colab-df-convert:hover {\n",
              "      background-color: #E2EBFA;\n",
              "      box-shadow: 0px 1px 2px rgba(60, 64, 67, 0.3), 0px 1px 3px 1px rgba(60, 64, 67, 0.15);\n",
              "      fill: #174EA6;\n",
              "    }\n",
              "\n",
              "    [theme=dark] .colab-df-convert {\n",
              "      background-color: #3B4455;\n",
              "      fill: #D2E3FC;\n",
              "    }\n",
              "\n",
              "    [theme=dark] .colab-df-convert:hover {\n",
              "      background-color: #434B5C;\n",
              "      box-shadow: 0px 1px 3px 1px rgba(0, 0, 0, 0.15);\n",
              "      filter: drop-shadow(0px 1px 2px rgba(0, 0, 0, 0.3));\n",
              "      fill: #FFFFFF;\n",
              "    }\n",
              "  </style>\n",
              "\n",
              "      <script>\n",
              "        const buttonEl =\n",
              "          document.querySelector('#df-142c7f3c-5bba-4d4f-9b83-a8ba1cef0f13 button.colab-df-convert');\n",
              "        buttonEl.style.display =\n",
              "          google.colab.kernel.accessAllowed ? 'block' : 'none';\n",
              "\n",
              "        async function convertToInteractive(key) {\n",
              "          const element = document.querySelector('#df-142c7f3c-5bba-4d4f-9b83-a8ba1cef0f13');\n",
              "          const dataTable =\n",
              "            await google.colab.kernel.invokeFunction('convertToInteractive',\n",
              "                                                     [key], {});\n",
              "          if (!dataTable) return;\n",
              "\n",
              "          const docLinkHtml = 'Like what you see? Visit the ' +\n",
              "            '<a target=\"_blank\" href=https://colab.research.google.com/notebooks/data_table.ipynb>data table notebook</a>'\n",
              "            + ' to learn more about interactive tables.';\n",
              "          element.innerHTML = '';\n",
              "          dataTable['output_type'] = 'display_data';\n",
              "          await google.colab.output.renderOutput(dataTable, element);\n",
              "          const docLink = document.createElement('div');\n",
              "          docLink.innerHTML = docLinkHtml;\n",
              "          element.appendChild(docLink);\n",
              "        }\n",
              "      </script>\n",
              "    </div>\n",
              "  </div>\n",
              "  "
            ]
          },
          "metadata": {},
          "execution_count": 50
        }
      ]
    },
    {
      "cell_type": "code",
      "source": [
        "X_test.drop(['date'], axis=1)"
      ],
      "metadata": {
        "colab": {
          "base_uri": "https://localhost:8080/",
          "height": 423
        },
        "id": "dmu2P0xGeW69",
        "outputId": "6e9ea7a4-3325-451a-8c82-f55cc7483cd0"
      },
      "execution_count": null,
      "outputs": [
        {
          "output_type": "execute_result",
          "data": {
            "text/plain": [
              "      suhu  kelembaban_tanah\n",
              "3978   3.0              11.0\n",
              "2889   3.0              17.0\n",
              "1235  12.0              42.0\n",
              "2943   3.0              19.0\n",
              "2625   3.0               8.0\n",
              "...    ...               ...\n",
              "3190   9.0               6.0\n",
              "4873   2.0              38.0\n",
              "3786   3.0              22.0\n",
              "100    4.0              32.0\n",
              "895    6.0               8.0\n",
              "\n",
              "[489 rows x 2 columns]"
            ],
            "text/html": [
              "\n",
              "  <div id=\"df-bd7daaa7-36bb-412c-93a8-3ab8adb56674\">\n",
              "    <div class=\"colab-df-container\">\n",
              "      <div>\n",
              "<style scoped>\n",
              "    .dataframe tbody tr th:only-of-type {\n",
              "        vertical-align: middle;\n",
              "    }\n",
              "\n",
              "    .dataframe tbody tr th {\n",
              "        vertical-align: top;\n",
              "    }\n",
              "\n",
              "    .dataframe thead th {\n",
              "        text-align: right;\n",
              "    }\n",
              "</style>\n",
              "<table border=\"1\" class=\"dataframe\">\n",
              "  <thead>\n",
              "    <tr style=\"text-align: right;\">\n",
              "      <th></th>\n",
              "      <th>suhu</th>\n",
              "      <th>kelembaban_tanah</th>\n",
              "    </tr>\n",
              "  </thead>\n",
              "  <tbody>\n",
              "    <tr>\n",
              "      <th>3978</th>\n",
              "      <td>3.0</td>\n",
              "      <td>11.0</td>\n",
              "    </tr>\n",
              "    <tr>\n",
              "      <th>2889</th>\n",
              "      <td>3.0</td>\n",
              "      <td>17.0</td>\n",
              "    </tr>\n",
              "    <tr>\n",
              "      <th>1235</th>\n",
              "      <td>12.0</td>\n",
              "      <td>42.0</td>\n",
              "    </tr>\n",
              "    <tr>\n",
              "      <th>2943</th>\n",
              "      <td>3.0</td>\n",
              "      <td>19.0</td>\n",
              "    </tr>\n",
              "    <tr>\n",
              "      <th>2625</th>\n",
              "      <td>3.0</td>\n",
              "      <td>8.0</td>\n",
              "    </tr>\n",
              "    <tr>\n",
              "      <th>...</th>\n",
              "      <td>...</td>\n",
              "      <td>...</td>\n",
              "    </tr>\n",
              "    <tr>\n",
              "      <th>3190</th>\n",
              "      <td>9.0</td>\n",
              "      <td>6.0</td>\n",
              "    </tr>\n",
              "    <tr>\n",
              "      <th>4873</th>\n",
              "      <td>2.0</td>\n",
              "      <td>38.0</td>\n",
              "    </tr>\n",
              "    <tr>\n",
              "      <th>3786</th>\n",
              "      <td>3.0</td>\n",
              "      <td>22.0</td>\n",
              "    </tr>\n",
              "    <tr>\n",
              "      <th>100</th>\n",
              "      <td>4.0</td>\n",
              "      <td>32.0</td>\n",
              "    </tr>\n",
              "    <tr>\n",
              "      <th>895</th>\n",
              "      <td>6.0</td>\n",
              "      <td>8.0</td>\n",
              "    </tr>\n",
              "  </tbody>\n",
              "</table>\n",
              "<p>489 rows × 2 columns</p>\n",
              "</div>\n",
              "      <button class=\"colab-df-convert\" onclick=\"convertToInteractive('df-bd7daaa7-36bb-412c-93a8-3ab8adb56674')\"\n",
              "              title=\"Convert this dataframe to an interactive table.\"\n",
              "              style=\"display:none;\">\n",
              "        \n",
              "  <svg xmlns=\"http://www.w3.org/2000/svg\" height=\"24px\"viewBox=\"0 0 24 24\"\n",
              "       width=\"24px\">\n",
              "    <path d=\"M0 0h24v24H0V0z\" fill=\"none\"/>\n",
              "    <path d=\"M18.56 5.44l.94 2.06.94-2.06 2.06-.94-2.06-.94-.94-2.06-.94 2.06-2.06.94zm-11 1L8.5 8.5l.94-2.06 2.06-.94-2.06-.94L8.5 2.5l-.94 2.06-2.06.94zm10 10l.94 2.06.94-2.06 2.06-.94-2.06-.94-.94-2.06-.94 2.06-2.06.94z\"/><path d=\"M17.41 7.96l-1.37-1.37c-.4-.4-.92-.59-1.43-.59-.52 0-1.04.2-1.43.59L10.3 9.45l-7.72 7.72c-.78.78-.78 2.05 0 2.83L4 21.41c.39.39.9.59 1.41.59.51 0 1.02-.2 1.41-.59l7.78-7.78 2.81-2.81c.8-.78.8-2.07 0-2.86zM5.41 20L4 18.59l7.72-7.72 1.47 1.35L5.41 20z\"/>\n",
              "  </svg>\n",
              "      </button>\n",
              "      \n",
              "  <style>\n",
              "    .colab-df-container {\n",
              "      display:flex;\n",
              "      flex-wrap:wrap;\n",
              "      gap: 12px;\n",
              "    }\n",
              "\n",
              "    .colab-df-convert {\n",
              "      background-color: #E8F0FE;\n",
              "      border: none;\n",
              "      border-radius: 50%;\n",
              "      cursor: pointer;\n",
              "      display: none;\n",
              "      fill: #1967D2;\n",
              "      height: 32px;\n",
              "      padding: 0 0 0 0;\n",
              "      width: 32px;\n",
              "    }\n",
              "\n",
              "    .colab-df-convert:hover {\n",
              "      background-color: #E2EBFA;\n",
              "      box-shadow: 0px 1px 2px rgba(60, 64, 67, 0.3), 0px 1px 3px 1px rgba(60, 64, 67, 0.15);\n",
              "      fill: #174EA6;\n",
              "    }\n",
              "\n",
              "    [theme=dark] .colab-df-convert {\n",
              "      background-color: #3B4455;\n",
              "      fill: #D2E3FC;\n",
              "    }\n",
              "\n",
              "    [theme=dark] .colab-df-convert:hover {\n",
              "      background-color: #434B5C;\n",
              "      box-shadow: 0px 1px 3px 1px rgba(0, 0, 0, 0.15);\n",
              "      filter: drop-shadow(0px 1px 2px rgba(0, 0, 0, 0.3));\n",
              "      fill: #FFFFFF;\n",
              "    }\n",
              "  </style>\n",
              "\n",
              "      <script>\n",
              "        const buttonEl =\n",
              "          document.querySelector('#df-bd7daaa7-36bb-412c-93a8-3ab8adb56674 button.colab-df-convert');\n",
              "        buttonEl.style.display =\n",
              "          google.colab.kernel.accessAllowed ? 'block' : 'none';\n",
              "\n",
              "        async function convertToInteractive(key) {\n",
              "          const element = document.querySelector('#df-bd7daaa7-36bb-412c-93a8-3ab8adb56674');\n",
              "          const dataTable =\n",
              "            await google.colab.kernel.invokeFunction('convertToInteractive',\n",
              "                                                     [key], {});\n",
              "          if (!dataTable) return;\n",
              "\n",
              "          const docLinkHtml = 'Like what you see? Visit the ' +\n",
              "            '<a target=\"_blank\" href=https://colab.research.google.com/notebooks/data_table.ipynb>data table notebook</a>'\n",
              "            + ' to learn more about interactive tables.';\n",
              "          element.innerHTML = '';\n",
              "          dataTable['output_type'] = 'display_data';\n",
              "          await google.colab.output.renderOutput(dataTable, element);\n",
              "          const docLink = document.createElement('div');\n",
              "          docLink.innerHTML = docLinkHtml;\n",
              "          element.appendChild(docLink);\n",
              "        }\n",
              "      </script>\n",
              "    </div>\n",
              "  </div>\n",
              "  "
            ]
          },
          "metadata": {},
          "execution_count": 51
        }
      ]
    },
    {
      "cell_type": "markdown",
      "metadata": {
        "id": "9LR54cqX2YAk"
      },
      "source": [
        "#4. KNN"
      ]
    },
    {
      "cell_type": "code",
      "source": [
        "from sklearn.metrics import accuracy_score"
      ],
      "metadata": {
        "id": "J-TzR_CAbtzV"
      },
      "execution_count": null,
      "outputs": []
    },
    {
      "cell_type": "code",
      "metadata": {
        "colab": {
          "base_uri": "https://localhost:8080/"
        },
        "id": "dwxZeVWf4stV",
        "outputId": "3d7b6962-f229-42cc-8464-74a3a3254827"
      },
      "source": [
        "#KNN Classifier\n",
        "from sklearn.neighbors import KNeighborsClassifier\n",
        "from sklearn import model_selection\n",
        "\n",
        "#memasuki class ke dalam data\n",
        "classifier = KNeighborsClassifier(n_neighbors=5, metric = 'minkowski', p=2)\n",
        "classifier.fit(X_train, y_train)\n"
      ],
      "execution_count": null,
      "outputs": [
        {
          "output_type": "execute_result",
          "data": {
            "text/plain": [
              "KNeighborsClassifier()"
            ]
          },
          "metadata": {},
          "execution_count": 53
        }
      ]
    },
    {
      "cell_type": "code",
      "source": [
        "#membuat variabel y prediksi\n",
        "y_pred_knn = classifier.predict(X_test)\n"
      ],
      "metadata": {
        "id": "u3UdrSviq-Ci"
      },
      "execution_count": null,
      "outputs": []
    },
    {
      "cell_type": "code",
      "metadata": {
        "id": "EkYI5TtQ_qUG",
        "colab": {
          "base_uri": "https://localhost:8080/"
        },
        "outputId": "63f2c6c2-c5ff-42f5-b170-1fcf0a7ed9aa"
      },
      "source": [
        "#membuat confusion matrix dan Precision, Recall, F1-Score, Support\n",
        "\n",
        "print(\"----Confusion Matrix-----\")\n",
        "print(confusion_matrix(y_test, y_pred_knn))\n",
        "print(\"\")\n",
        "print(\"----Precision, Recall, F1-Score, Support-----\")\n",
        "print(classification_report(y_test, y_pred_knn))"
      ],
      "execution_count": null,
      "outputs": [
        {
          "output_type": "stream",
          "name": "stdout",
          "text": [
            "----Confusion Matrix-----\n",
            "[[107 130]\n",
            " [120 132]]\n",
            "\n",
            "----Precision, Recall, F1-Score, Support-----\n",
            "                precision    recall  f1-score   support\n",
            "\n",
            "KURANG OPTIMAL       0.47      0.45      0.46       237\n",
            "       OPTIMAL       0.50      0.52      0.51       252\n",
            "\n",
            "      accuracy                           0.49       489\n",
            "     macro avg       0.49      0.49      0.49       489\n",
            "  weighted avg       0.49      0.49      0.49       489\n",
            "\n"
          ]
        }
      ]
    },
    {
      "cell_type": "code",
      "metadata": {
        "colab": {
          "base_uri": "https://localhost:8080/"
        },
        "id": "oDY-lisfFKz-",
        "outputId": "da9eff9a-42d7-44e2-9845-60dc44725048"
      },
      "source": [
        "#menghitung akurasi model knn\n",
        "from sklearn.metrics import accuracy_score\n",
        "print('Akurasi Model: {0:0.4f}'. format(accuracy_score(y_test, y_pred_knn)*100), \"%\")"
      ],
      "execution_count": null,
      "outputs": [
        {
          "output_type": "stream",
          "name": "stdout",
          "text": [
            "Akurasi Model: 48.8753 %\n"
          ]
        }
      ]
    },
    {
      "cell_type": "code",
      "metadata": {
        "colab": {
          "base_uri": "https://localhost:8080/"
        },
        "id": "OvEX6cnuFk8L",
        "outputId": "dd26e177-5ba8-4779-ad1f-900fb8f9fbc5"
      },
      "source": [
        "y_pred_train_knn = classifier.predict(X_train)\n",
        "\n",
        "#akurasi training set\n",
        "print('Akurasi Training set: {0:0.4f}'. format(accuracy_score(y_train, y_pred_train_knn)*100), \"%\")"
      ],
      "execution_count": null,
      "outputs": [
        {
          "output_type": "stream",
          "name": "stdout",
          "text": [
            "Akurasi Training set: 70.8561 %\n"
          ]
        }
      ]
    },
    {
      "cell_type": "markdown",
      "metadata": {
        "id": "7iSRVPrIHJ_L"
      },
      "source": [
        "Hasil yang dapat diperoleh dari model KNN tersebut adalah akurasi model KNN dengan 48.8753% dan akurasi training set dengan 70.8561%. Dapat dilihat bahwa Hasil Algoritma KNN masih kurang memuaskan. "
      ]
    },
    {
      "cell_type": "markdown",
      "metadata": {
        "id": "KGZ-MnbvIuhv"
      },
      "source": [
        "Untuk menutupi kekurangan dari algoritma KNN, model selanjutnya yang akan dianalisis dan dibanding adalah algoritma Random Forest dan Decision Tree."
      ]
    },
    {
      "cell_type": "markdown",
      "metadata": {
        "id": "0_xF2SzTJBZb"
      },
      "source": [
        "#5. Random Forest"
      ]
    },
    {
      "cell_type": "code",
      "metadata": {
        "colab": {
          "base_uri": "https://localhost:8080/"
        },
        "id": "6AWjL90nGfF9",
        "outputId": "25046e6f-25b0-416e-c373-5246b0d0deb1"
      },
      "source": [
        "from sklearn.ensemble import RandomForestClassifier\n",
        "\n",
        "forest = RandomForestClassifier(n_estimators=100, criterion='entropy', random_state=0)\n",
        "forest.fit(X_train, y_train)"
      ],
      "execution_count": null,
      "outputs": [
        {
          "output_type": "execute_result",
          "data": {
            "text/plain": [
              "RandomForestClassifier(criterion='entropy', random_state=0)"
            ]
          },
          "metadata": {},
          "execution_count": 58
        }
      ]
    },
    {
      "cell_type": "code",
      "metadata": {
        "id": "T9Aedo1oKZk2"
      },
      "source": [
        "y_pred_rf = forest.predict(X_test)"
      ],
      "execution_count": null,
      "outputs": []
    },
    {
      "cell_type": "code",
      "metadata": {
        "id": "WBaBBtddLERm"
      },
      "source": [
        "y_pred_train_rf = forest.predict(X_train)"
      ],
      "execution_count": null,
      "outputs": []
    },
    {
      "cell_type": "code",
      "source": [
        "#membuat confusion matrix dan Precision, Recall, F1-Score, Support\n",
        "\n",
        "print(\"----Confusion Matrix-----\")\n",
        "print(confusion_matrix(y_test, y_pred_rf))\n",
        "print(\"\")\n",
        "print(\"----Precision, Recall, F1-Score, Support-----\")\n",
        "print(classification_report(y_test, y_pred_rf))"
      ],
      "metadata": {
        "colab": {
          "base_uri": "https://localhost:8080/"
        },
        "id": "ZMe8TSxKinA7",
        "outputId": "eaa8718a-9adf-447d-ded5-28f687d68316"
      },
      "execution_count": null,
      "outputs": [
        {
          "output_type": "stream",
          "name": "stdout",
          "text": [
            "----Confusion Matrix-----\n",
            "[[219  18]\n",
            " [ 60 192]]\n",
            "\n",
            "----Precision, Recall, F1-Score, Support-----\n",
            "                precision    recall  f1-score   support\n",
            "\n",
            "KURANG OPTIMAL       0.78      0.92      0.85       237\n",
            "       OPTIMAL       0.91      0.76      0.83       252\n",
            "\n",
            "      accuracy                           0.84       489\n",
            "     macro avg       0.85      0.84      0.84       489\n",
            "  weighted avg       0.85      0.84      0.84       489\n",
            "\n"
          ]
        }
      ]
    },
    {
      "cell_type": "code",
      "metadata": {
        "colab": {
          "base_uri": "https://localhost:8080/"
        },
        "id": "24ijHYVvK5T3",
        "outputId": "9d67eb74-bfab-4c62-d499-b6a05dcec1bb"
      },
      "source": [
        "print('Akurasi Model: {0:0.4f}'. format(accuracy_score(y_test, y_pred_rf)*100), \"%\")\n",
        "print('Akurasi Traing set: {0:0.4f}'. format(accuracy_score(y_train, y_pred_train_rf)*100), \"%\")"
      ],
      "execution_count": null,
      "outputs": [
        {
          "output_type": "stream",
          "name": "stdout",
          "text": [
            "Akurasi Model: 84.0491 %\n",
            "Akurasi Traing set: 100.0000 %\n"
          ]
        }
      ]
    },
    {
      "cell_type": "markdown",
      "metadata": {
        "id": "KnCpV-lFPDW_"
      },
      "source": [
        "Hasil yang diperoleh dari algoritma Random Forest adalah akurasi model dengan 84.0491% dan akurasi training set dengan 100.00%."
      ]
    },
    {
      "cell_type": "markdown",
      "metadata": {
        "id": "is84MU_8PPcW"
      },
      "source": [
        "#6. Decision Tree"
      ]
    },
    {
      "cell_type": "code",
      "metadata": {
        "colab": {
          "base_uri": "https://localhost:8080/"
        },
        "id": "BBduWOmjLI-Y",
        "outputId": "90b8d3d7-310a-4c52-ae37-6700ed1e2767"
      },
      "source": [
        "from sklearn.tree import DecisionTreeClassifier\n",
        "\n",
        "tree = DecisionTreeClassifier(criterion='entropy', random_state=0)\n",
        "tree.fit(X_train, y_train)"
      ],
      "execution_count": null,
      "outputs": [
        {
          "output_type": "execute_result",
          "data": {
            "text/plain": [
              "DecisionTreeClassifier(criterion='entropy', random_state=0)"
            ]
          },
          "metadata": {},
          "execution_count": 63
        }
      ]
    },
    {
      "cell_type": "code",
      "metadata": {
        "id": "Z3cF_SaEQbqq"
      },
      "source": [
        "y_pred_dt = tree.predict(X_test)\n",
        "y_pred_train_dt = tree.predict(X_train)"
      ],
      "execution_count": null,
      "outputs": []
    },
    {
      "cell_type": "code",
      "metadata": {
        "colab": {
          "base_uri": "https://localhost:8080/"
        },
        "id": "ccQOubAvQnqV",
        "outputId": "7a2192cb-c189-40b2-e290-b59c9e297315"
      },
      "source": [
        "print('Akurasi Model: {0:0.4f}'. format(accuracy_score(y_test, y_pred_dt)*100), \"%\")\n",
        "print('Akurasi Traing set: {0:0.4f}'. format(accuracy_score(y_train, y_pred_train_dt)*100), \"%\")"
      ],
      "execution_count": null,
      "outputs": [
        {
          "output_type": "stream",
          "name": "stdout",
          "text": [
            "Akurasi Model: 96.3190 %\n",
            "Akurasi Traing set: 100.0000 %\n"
          ]
        }
      ]
    },
    {
      "cell_type": "markdown",
      "metadata": {
        "id": "LgIRol1TQu6u"
      },
      "source": [
        "Hasil yang diperoleh dari algoritma Decision Tree adalah akurasi model dengan 96.3190% dan akurasi training set dengan 100%."
      ]
    },
    {
      "cell_type": "markdown",
      "metadata": {
        "id": "QKBYCMmyUYYZ"
      },
      "source": [
        "#7. Kesimpulan"
      ]
    },
    {
      "cell_type": "markdown",
      "metadata": {
        "id": "QfHLSzwFUb2h"
      },
      "source": [
        "Dari hasil akurasi 3 algoritma classifier tersebut, maka dapat disimpulkan bahwa algoritma Decision Tree menempati Urutan Pertama dengan Nilai Akurasi Model dan Akurasi Training tertinggi "
      ]
    },
    {
      "cell_type": "markdown",
      "metadata": {
        "id": "RL6S5ApSji6w"
      },
      "source": [
        "#8. Export Data2"
      ]
    },
    {
      "cell_type": "code",
      "metadata": {
        "id": "p54Cl89oUX2j"
      },
      "source": [
        "#dataset knn"
      ],
      "execution_count": null,
      "outputs": []
    },
    {
      "cell_type": "code",
      "metadata": {
        "id": "5zMnGGdUjJoQ"
      },
      "source": [
        "y_pred_knn = pd.DataFrame(y_pred_knn)"
      ],
      "execution_count": null,
      "outputs": []
    },
    {
      "cell_type": "code",
      "metadata": {
        "id": "NZqz-A0Givai"
      },
      "source": [
        "y_pred_knn.to_csv('y_pred_knn.csv')"
      ],
      "execution_count": null,
      "outputs": []
    },
    {
      "cell_type": "code",
      "metadata": {
        "id": "ZiRxV02qiz7Q"
      },
      "source": [
        "y_pred_train_knn = pd.DataFrame(y_pred_train_knn)"
      ],
      "execution_count": null,
      "outputs": []
    },
    {
      "cell_type": "code",
      "metadata": {
        "id": "2M4MR0IijaYZ"
      },
      "source": [
        "y_pred_train_knn.to_csv('y_pred_train_knn.csv')"
      ],
      "execution_count": null,
      "outputs": []
    },
    {
      "cell_type": "code",
      "metadata": {
        "id": "NjwCso4djf0K"
      },
      "source": [
        "#dataset random forest"
      ],
      "execution_count": null,
      "outputs": []
    },
    {
      "cell_type": "code",
      "metadata": {
        "id": "ZKNiTeXcj00L"
      },
      "source": [
        "y_pred_rf = pd.DataFrame(y_pred_rf)"
      ],
      "execution_count": null,
      "outputs": []
    },
    {
      "cell_type": "code",
      "metadata": {
        "id": "7sGR0i0Ij6qx"
      },
      "source": [
        "y_pred_rf.to_csv('y_pred_rf.csv')"
      ],
      "execution_count": null,
      "outputs": []
    },
    {
      "cell_type": "code",
      "metadata": {
        "id": "b11skZ8Qj947"
      },
      "source": [
        "y_pred_train_rf = pd.DataFrame(y_pred_train_rf)"
      ],
      "execution_count": null,
      "outputs": []
    },
    {
      "cell_type": "code",
      "metadata": {
        "id": "tRfJZIpYkGWG"
      },
      "source": [
        "y_pred_train_rf.to_csv('y_pred_train_rf.csv')"
      ],
      "execution_count": null,
      "outputs": []
    },
    {
      "cell_type": "code",
      "metadata": {
        "id": "CGfX6r3gkLJq"
      },
      "source": [
        "#dataset decision tree"
      ],
      "execution_count": null,
      "outputs": []
    },
    {
      "cell_type": "code",
      "metadata": {
        "id": "NG0sW6BpkPMZ"
      },
      "source": [
        "y_pred_dt = pd.DataFrame(y_pred_dt)"
      ],
      "execution_count": null,
      "outputs": []
    },
    {
      "cell_type": "code",
      "metadata": {
        "id": "0DwAiFpzkbqv"
      },
      "source": [
        "y_pred_dt.to_csv('y_pred_dt.csv')"
      ],
      "execution_count": null,
      "outputs": []
    },
    {
      "cell_type": "code",
      "metadata": {
        "id": "ONKSOJQ4kgaY"
      },
      "source": [
        "y_pred_train_dt = pd.DataFrame(y_pred_train_dt)"
      ],
      "execution_count": null,
      "outputs": []
    },
    {
      "cell_type": "code",
      "metadata": {
        "id": "mXHtsGCgkmoE"
      },
      "source": [
        "y_pred_train_dt.to_csv('y_pred_train_dt.csv')"
      ],
      "execution_count": null,
      "outputs": []
    },
    {
      "cell_type": "markdown",
      "metadata": {
        "id": "-577LT9x5ihP"
      },
      "source": [
        "#8. Graph "
      ]
    },
    {
      "cell_type": "code",
      "metadata": {
        "id": "KfEtvuxCkrYo"
      },
      "source": [
        "akurasi_model_knn = accuracy_score(y_test, y_pred_knn)*100\n",
        "akurasi_model_rf = accuracy_score(y_test, y_pred_rf)*100\n",
        "akurasi_model_dt = accuracy_score(y_test, y_pred_dt)*100\n",
        "\n",
        "akurasi_trainset_knn = accuracy_score(y_train, y_pred_train_knn)*100\n",
        "akurasi_trainset_rf = accuracy_score(y_train, y_pred_train_rf)*100\n",
        "akurasi_trainset_dt = accuracy_score(y_train, y_pred_train_dt)*100"
      ],
      "execution_count": null,
      "outputs": []
    },
    {
      "cell_type": "code",
      "metadata": {
        "id": "BYg0z-H46vol",
        "colab": {
          "base_uri": "https://localhost:8080/",
          "height": 312
        },
        "outputId": "748f0937-bf8b-4940-9c6f-0fa3c4214fc7"
      },
      "source": [
        "#graph \n",
        "\n",
        "algoritma = ['KNN','Random Forest','Decision tree']\n",
        "model = (akurasi_model_knn, akurasi_model_rf, akurasi_model_dt)\n",
        "trainset = (akurasi_trainset_knn, akurasi_trainset_rf, akurasi_trainset_dt)\n",
        "\n",
        "plt.bar(algoritma, model, color='blue')\n",
        "plt.title('Akurasi Model KNN, Random Forest, dan Decision Tree')\n",
        "plt.xlabel('Algoritma Klasifikasi')\n",
        "plt.ylabel('Akurasi (%)')"
      ],
      "execution_count": null,
      "outputs": [
        {
          "output_type": "execute_result",
          "data": {
            "text/plain": [
              "Text(0, 0.5, 'Akurasi (%)')"
            ]
          },
          "metadata": {},
          "execution_count": 68
        },
        {
          "output_type": "display_data",
          "data": {
            "text/plain": [
              "<Figure size 432x288 with 1 Axes>"
            ],
            "image/png": "[encoded data removed]"
          },
          "metadata": {
            "needs_background": "light"
          }
        }
      ]
    },
    {
      "cell_type": "code",
      "metadata": {
        "id": "KdsWMBP48O1e",
        "colab": {
          "base_uri": "https://localhost:8080/",
          "height": 312
        },
        "outputId": "1c7c8a46-0766-47cd-ed35-7bec2707cf57"
      },
      "source": [
        "plt.bar(algoritma, trainset, color='red')\n",
        "plt.title('Akurasi Training Set KNN, Random Forest, dan Decision Tree')\n",
        "plt.xlabel('Algoritma Klasifikasi')\n",
        "plt.ylabel('Akurasi (%)')"
      ],
      "execution_count": null,
      "outputs": [
        {
          "output_type": "execute_result",
          "data": {
            "text/plain": [
              "Text(0, 0.5, 'Akurasi (%)')"
            ]
          },
          "metadata": {},
          "execution_count": 69
        },
        {
          "output_type": "display_data",
          "data": {
            "text/plain": [
              "<Figure size 432x288 with 1 Axes>"
            ],
            "image/png": "[encoded data removed]"
          },
          "metadata": {
            "needs_background": "light"
          }
        }
      ]
    },
    {
      "cell_type": "code",
      "metadata": {
        "id": "QfjpmQvS9V9I"
      },
      "source": [
        ""
      ],
      "execution_count": null,
      "outputs": []
    }
  ]
}